{
 "cells": [
  {
   "cell_type": "code",
   "execution_count": 15,
   "metadata": {},
   "outputs": [],
   "source": [
    "import soundfile as sf\n",
    "from tqdm import tqdm\n",
    "import pandas as pd\n",
    "import librosa\n",
    "import json\n",
    "import os\n",
    "\n",
    "from jiwer import wer"
   ]
  },
  {
   "cell_type": "code",
   "execution_count": 2,
   "metadata": {},
   "outputs": [
    {
     "name": "stderr",
     "output_type": "stream",
     "text": [
      "100%|██████████| 2231796/2231796 [00:05<00:00, 379724.62it/s]\n"
     ]
    },
    {
     "data": {
      "text/html": [
       "<div>\n",
       "<style scoped>\n",
       "    .dataframe tbody tr th:only-of-type {\n",
       "        vertical-align: middle;\n",
       "    }\n",
       "\n",
       "    .dataframe tbody tr th {\n",
       "        vertical-align: top;\n",
       "    }\n",
       "\n",
       "    .dataframe thead th {\n",
       "        text-align: right;\n",
       "    }\n",
       "</style>\n",
       "<table border=\"1\" class=\"dataframe\">\n",
       "  <thead>\n",
       "    <tr style=\"text-align: right;\">\n",
       "      <th></th>\n",
       "      <th>audio_filepath</th>\n",
       "      <th>offset</th>\n",
       "      <th>duration</th>\n",
       "      <th>text</th>\n",
       "      <th>pred_text</th>\n",
       "    </tr>\n",
       "  </thead>\n",
       "  <tbody>\n",
       "    <tr>\n",
       "      <th>0</th>\n",
       "      <td>/data2/audio/f88-v1/1082935a-1543-4673-8c46-5d...</td>\n",
       "      <td>1.54</td>\n",
       "      <td>1.69</td>\n",
       "      <td>a a a a a bê</td>\n",
       "      <td>a a a a a bê</td>\n",
       "    </tr>\n",
       "  </tbody>\n",
       "</table>\n",
       "</div>"
      ],
      "text/plain": [
       "                                      audio_filepath  offset  duration  \\\n",
       "0  /data2/audio/f88-v1/1082935a-1543-4673-8c46-5d...    1.54      1.69   \n",
       "\n",
       "           text     pred_text  \n",
       "0  a a a a a bê  a a a a a bê  "
      ]
     },
     "execution_count": 2,
     "metadata": {},
     "output_type": "execute_result"
    }
   ],
   "source": [
    "def load_cached_metadata(filepaths):\n",
    "    metadata = []\n",
    "    for filepath in filepaths:\n",
    "        for line in tqdm(open(filepath).readlines()):\n",
    "            sample = json.loads(line)\n",
    "            metadata.append(sample)\n",
    "            \n",
    "    return metadata\n",
    "\n",
    "filepaths = [\n",
    "    \"/data/asr-research/data/s9_stt_metadata_nemo_ctc/predictions_all.jsonl\",\n",
    "]\n",
    "metadata = load_cached_metadata(filepaths)\n",
    "metadata = pd.DataFrame(metadata)\n",
    "metadata.head(1)"
   ]
  },
  {
   "cell_type": "code",
   "execution_count": 6,
   "metadata": {},
   "outputs": [],
   "source": [
    "metadata[\"wer\"] = metadata.apply(\n",
    "    lambda row: wer(row[\"text\"], row[\"pred_text\"]), axis=1\n",
    ")"
   ]
  },
  {
   "cell_type": "code",
   "execution_count": 42,
   "metadata": {},
   "outputs": [],
   "source": [
    "subset = metadata[metadata.wer == 0]"
   ]
  },
  {
   "cell_type": "code",
   "execution_count": 41,
   "metadata": {},
   "outputs": [
    {
     "data": {
      "text/plain": [
       "np.float64(1629.0257189262998)"
      ]
     },
     "execution_count": 41,
     "metadata": {},
     "output_type": "execute_result"
    }
   ],
   "source": [
    "metadata[metadata.wer == 0].duration.sum() / 3600"
   ]
  },
  {
   "cell_type": "code",
   "execution_count": 36,
   "metadata": {},
   "outputs": [
    {
     "data": {
      "text/plain": [
       "{'audio_filepath': '/data2/audio/f88-v1/72ddc3e4-013a-4bfd-bbb6-164e65c17206-0-3-18.17-26.92.wav',\n",
       " 'offset': 0.54,\n",
       " 'duration': 1.79,\n",
       " 'text': 'a lô anh em',\n",
       " 'pred_text': 'a lô bên em',\n",
       " 'wer': 0.25}"
      ]
     },
     "execution_count": 36,
     "metadata": {},
     "output_type": "execute_result"
    }
   ],
   "source": [
    "row = metadata[metadata.wer > 0.15].iloc[25].to_dict()\n",
    "\n",
    "audio_filepath = row[\"audio_filepath\"]\n",
    "start_time = row[\"offset\"]\n",
    "end_time = start_time + row[\"duration\"]\n",
    "\n",
    "audio, sr = librosa.load(audio_filepath, sr=None)\n",
    "\n",
    "audio = audio[int(sr*start_time): int(sr*end_time)]\n",
    "sf.write(\"segment.wav\", audio, samplerate=sr)\n",
    "\n",
    "row"
   ]
  },
  {
   "cell_type": "code",
   "execution_count": 3,
   "metadata": {},
   "outputs": [
    {
     "data": {
      "text/plain": [
       "np.float64(1939.4076343522306)"
      ]
     },
     "execution_count": 3,
     "metadata": {},
     "output_type": "execute_result"
    }
   ],
   "source": [
    "metadata.duration.sum()/ 3600"
   ]
  },
  {
   "cell_type": "code",
   "execution_count": 53,
   "metadata": {},
   "outputs": [],
   "source": [
    "vocab = subset.text.apply(lambda x: x.split()).explode().value_counts()"
   ]
  },
  {
   "cell_type": "code",
   "execution_count": 78,
   "metadata": {},
   "outputs": [],
   "source": [
    "outlier = vocab[vocab < 10]\n",
    "outlier = set(outlier.index.to_list())"
   ]
  },
  {
   "cell_type": "code",
   "execution_count": 74,
   "metadata": {},
   "outputs": [],
   "source": [
    "is_valid = subset.text.apply(lambda x: any([word in outlier for word in x.split()]))"
   ]
  },
  {
   "cell_type": "code",
   "execution_count": 75,
   "metadata": {},
   "outputs": [
    {
     "data": {
      "text/plain": [
       "np.float64(22.60478114748663)"
      ]
     },
     "execution_count": 75,
     "metadata": {},
     "output_type": "execute_result"
    }
   ],
   "source": [
    "subset[is_valid].duration.sum() / 3600"
   ]
  },
  {
   "cell_type": "code",
   "execution_count": 76,
   "metadata": {},
   "outputs": [
    {
     "data": {
      "text/plain": [
       "np.float64(1606.4209377788125)"
      ]
     },
     "execution_count": 76,
     "metadata": {},
     "output_type": "execute_result"
    }
   ],
   "source": [
    "subset[~is_valid].duration.sum() / 3600"
   ]
  },
  {
   "cell_type": "code",
   "execution_count": 83,
   "metadata": {},
   "outputs": [],
   "source": [
    "clean_data = subset[~is_valid]\n",
    "clean_data = clean_data[\n",
    "    [\n",
    "        \"audio_filepath\", \"offset\", \n",
    "        \"duration\", \"pred_text\", \"wer\"\n",
    "        ]\n",
    "    ].rename(columns={\"pred_text\": \"text\"})"
   ]
  },
  {
   "cell_type": "code",
   "execution_count": null,
   "metadata": {},
   "outputs": [
    {
     "name": "stdout",
     "output_type": "stream",
     "text": [
      "saved data to data/f88_cleaned_data.jsonl\n"
     ]
    },
    {
     "ename": "",
     "evalue": "",
     "output_type": "error",
     "traceback": [
      "\u001b[1;31mThe Kernel crashed while executing code in the current cell or a previous cell. \n",
      "\u001b[1;31mPlease review the code in the cell(s) to identify a possible cause of the failure. \n",
      "\u001b[1;31mClick <a href='https://aka.ms/vscodeJupyterKernelCrash'>here</a> for more info. \n",
      "\u001b[1;31mView Jupyter <a href='command:jupyter.viewOutput'>log</a> for further details."
     ]
    }
   ],
   "source": [
    "filepath = \"data/f88_cleaned_data.jsonl\"\n",
    "with open(filepath, \"w\") as f:\n",
    "    for index in tqdm(clean_data.index):\n",
    "        row = clean_data.loc[index].to_dict()\n",
    "        json_obj = json.dumps(row, ensure_ascii=False)\n",
    "        f.write(json_obj+\"\\n\")\n",
    "print(f'saved data to {filepath}')"
   ]
  }
 ],
 "metadata": {
  "kernelspec": {
   "display_name": "nemo",
   "language": "python",
   "name": "python3"
  },
  "language_info": {
   "codemirror_mode": {
    "name": "ipython",
    "version": 3
   },
   "file_extension": ".py",
   "mimetype": "text/x-python",
   "name": "python",
   "nbconvert_exporter": "python",
   "pygments_lexer": "ipython3",
   "version": "3.10.18"
  }
 },
 "nbformat": 4,
 "nbformat_minor": 2
}
