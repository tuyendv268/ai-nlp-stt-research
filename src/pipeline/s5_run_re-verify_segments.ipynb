{
 "cells": [
  {
   "cell_type": "code",
   "execution_count": 1,
   "metadata": {},
   "outputs": [],
   "source": [
    "from matplotlib import pyplot as plt\n",
    "import soundfile as sf\n",
    "from tqdm import tqdm\n",
    "from glob import glob\n",
    "import pandas as pd\n",
    "import torchaudio\n",
    "import librosa\n",
    "import torch\n",
    "import json\n",
    "import os\n",
    "\n",
    "from jiwer import wer"
   ]
  },
  {
   "cell_type": "code",
   "execution_count": 2,
   "metadata": {},
   "outputs": [],
   "source": [
    "def load_jsonl_data(metadata_path, load_json_obj=False):\n",
    "    if load_json_obj:\n",
    "        metadata = list(map(\n",
    "            json.loads, \n",
    "            tqdm(\n",
    "                open(metadata_path).readlines(), \n",
    "                desc=\"Load data\"\n",
    "                )\n",
    "            )\n",
    "        )\n",
    "    else:\n",
    "        metadata = open(metadata_path).readlines()\n",
    "    \n",
    "    return metadata"
   ]
  },
  {
   "cell_type": "code",
   "execution_count": 3,
   "metadata": {},
   "outputs": [],
   "source": [
    "threshold = 0.05"
   ]
  },
  {
   "cell_type": "code",
   "execution_count": null,
   "metadata": {},
   "outputs": [],
   "source": [
    "data_dir = \"/data/asr-research/data/s4_stt_metadata_nemo_ctc\"\n",
    "metadata = []\n",
    "for filepath in glob(f'{data_dir}/*.jsonl'):\n",
    "    metadata += load_jsonl_data(filepath, load_json_obj=True)\n",
    "    \n",
    "metadata = pd.DataFrame(metadata)\n",
    "metadata = metadata.drop_duplicates()"
   ]
  },
  {
   "cell_type": "code",
   "execution_count": 6,
   "metadata": {},
   "outputs": [],
   "source": [
    "metadata[\"wer\"] = metadata.apply(lambda row: wer(row[\"text\"], row[\"pred_text\"]), axis=1)\n",
    "metadata[metadata.wer <= threshold].duration.sum() / 3600"
   ]
  },
  {
   "cell_type": "code",
   "execution_count": 8,
   "metadata": {},
   "outputs": [],
   "source": [
    "tmp = metadata[metadata.wer <= threshold]\n",
    "filtered_df = []\n",
    "for text, group in tmp.groupby(\"text\"):\n",
    "    if group.shape[0] > 32:\n",
    "        group = group.sample(32, random_state=42)\n",
    "\n",
    "    filtered_df.append(group)\n",
    "\n",
    "filtered_df = pd.concat(filtered_df)\n",
    "filtered_df.head(1)"
   ]
  },
  {
   "cell_type": "code",
   "execution_count": null,
   "metadata": {},
   "outputs": [],
   "source": [
    "metadata.duration.sum() / 3600, filtered_df.duration.sum() / 3600"
   ]
  },
  {
   "cell_type": "code",
   "execution_count": 11,
   "metadata": {},
   "outputs": [],
   "source": [
    "saved_df = filtered_df.copy()\n",
    "# saved_df = saved_df.rename(\n",
    "#     columns={\n",
    "#         \"start_time\": \"offset\",\n",
    "#         \"text\": \"text\"\n",
    "#     }\n",
    "# )\n",
    "saved_df.duration.hist(bins=100)"
   ]
  },
  {
   "cell_type": "code",
   "execution_count": null,
   "metadata": {},
   "outputs": [],
   "source": [
    "manifest_filepath = f\"/data/asr-research/data/metadata/f88_segments_wer_{threshold}_v1.jsonl\"\n",
    "with open(manifest_filepath, \"w\") as f:\n",
    "    for index in tqdm(saved_df.index):\n",
    "        row = saved_df.loc[index].to_dict()\n",
    "        json_obj = json.dumps(row, ensure_ascii=False)\n",
    "        f.write(json_obj + \"\\n\")"
   ]
  },
  {
   "cell_type": "code",
   "execution_count": null,
   "metadata": {},
   "outputs": [],
   "source": [
    "metadata[metadata.wer < threshold].duration.sum() / 3600"
   ]
  },
  {
   "cell_type": "code",
   "execution_count": null,
   "metadata": {},
   "outputs": [],
   "source": [
    "metadata[metadata.wer < threshold].duration.hist(bins=100)"
   ]
  },
  {
   "cell_type": "code",
   "execution_count": null,
   "metadata": {},
   "outputs": [],
   "source": []
  }
 ],
 "metadata": {
  "kernelspec": {
   "display_name": "nemo",
   "language": "python",
   "name": "python3"
  },
  "language_info": {
   "codemirror_mode": {
    "name": "ipython",
    "version": 3
   },
   "file_extension": ".py",
   "mimetype": "text/x-python",
   "name": "python",
   "nbconvert_exporter": "python",
   "pygments_lexer": "ipython3",
   "version": "3.10.18"
  }
 },
 "nbformat": 4,
 "nbformat_minor": 2
}
