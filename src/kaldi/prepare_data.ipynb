{
 "cells": [
  {
   "cell_type": "code",
   "execution_count": 1,
   "metadata": {},
   "outputs": [],
   "source": [
    "from tqdm import tqdm\n",
    "import pandas as pd\n",
    "import json\n",
    "import re\n",
    "import os"
   ]
  },
  {
   "cell_type": "code",
   "execution_count": 2,
   "metadata": {},
   "outputs": [],
   "source": [
    "def normalize(text):\n",
    "    text = re.sub(r'[^\\w\\s]', ' ', text)\n",
    "    text = re.sub(r'\\s+', ' ', text)\n",
    "    text = text.strip().lower()\n",
    "    \n",
    "    return text"
   ]
  },
  {
   "cell_type": "code",
   "execution_count": 3,
   "metadata": {},
   "outputs": [],
   "source": [
    "lexicon_path = \"/data/asr/kaldi/data/lexicon\"\n",
    "lexicon_df = pd.read_csv(lexicon_path, sep=\"\\t\", names=[\"word\", \"phonemes\"])\n",
    "vocab = set(lexicon_df.word.to_list())"
   ]
  },
  {
   "cell_type": "code",
   "execution_count": 20,
   "metadata": {},
   "outputs": [
    {
     "name": "stderr",
     "output_type": "stream",
     "text": [
      "100%|██████████| 1875452/1875452 [00:04<00:00, 375982.92it/s]\n"
     ]
    },
    {
     "data": {
      "text/html": [
       "<div>\n",
       "<style scoped>\n",
       "    .dataframe tbody tr th:only-of-type {\n",
       "        vertical-align: middle;\n",
       "    }\n",
       "\n",
       "    .dataframe tbody tr th {\n",
       "        vertical-align: top;\n",
       "    }\n",
       "\n",
       "    .dataframe thead th {\n",
       "        text-align: right;\n",
       "    }\n",
       "</style>\n",
       "<table border=\"1\" class=\"dataframe\">\n",
       "  <thead>\n",
       "    <tr style=\"text-align: right;\">\n",
       "      <th></th>\n",
       "      <th>audio_filepath</th>\n",
       "      <th>text</th>\n",
       "      <th>id</th>\n",
       "      <th>duration</th>\n",
       "      <th>pred</th>\n",
       "      <th>wer</th>\n",
       "    </tr>\n",
       "  </thead>\n",
       "  <tbody>\n",
       "    <tr>\n",
       "      <th>1000000</th>\n",
       "      <td>/data/asr/asr_data/train/126/419/126-419-71.wav</td>\n",
       "      <td>công việc khiến cho ông minh đi công tác nhiều...</td>\n",
       "      <td>126-419-71</td>\n",
       "      <td>2.640062</td>\n",
       "      <td>công việc khiến cho ông minh đi công tác nhiều...</td>\n",
       "      <td>0.0</td>\n",
       "    </tr>\n",
       "  </tbody>\n",
       "</table>\n",
       "</div>"
      ],
      "text/plain": [
       "                                          audio_filepath  \\\n",
       "1000000  /data/asr/asr_data/train/126/419/126-419-71.wav   \n",
       "\n",
       "                                                      text          id  \\\n",
       "1000000  công việc khiến cho ông minh đi công tác nhiều...  126-419-71   \n",
       "\n",
       "         duration                                               pred  wer  \n",
       "1000000  2.640062  công việc khiến cho ông minh đi công tác nhiều...  0.0  "
      ]
     },
     "execution_count": 20,
     "metadata": {},
     "output_type": "execute_result"
    }
   ],
   "source": [
    "data_dir = \"/data/asr/kaldi/data/test\"\n",
    "if not os.path.exists(data_dir):\n",
    "    os.mkdir(data_dir)\n",
    "    \n",
    "# metadata_path = \"/data/asr/metadata/test_tele.jsonl\"\n",
    "metadata_path = \"/data/asr/metadata/pred-train_gigaspeech2_filtered.jsonl\"\n",
    "\n",
    "metadata = list(map(json.loads, tqdm(open(metadata_path).readlines())))\n",
    "metadata_df = pd.DataFrame(metadata)\n",
    "metadata_df[\"text\"] = metadata_df.text.apply(normalize)\n",
    "metadata_df[\"id\"] = metadata_df.audio_filepath.apply(lambda x: os.path.basename(x).split(\".wav\")[0])\n",
    "metadata_df = metadata_df[1000000: 1500000]\n",
    "metadata_df.head(1)"
   ]
  },
  {
   "cell_type": "code",
   "execution_count": 5,
   "metadata": {},
   "outputs": [],
   "source": [
    "# metadata_df[\"text\"].to_csv(\"/data/asr/icefall/egs/librispeech/ASR/manifests/lm_corpus.txt\", index=None)"
   ]
  },
  {
   "cell_type": "code",
   "execution_count": 21,
   "metadata": {},
   "outputs": [
    {
     "data": {
      "text/plain": [
       "488.6643307812499"
      ]
     },
     "execution_count": 21,
     "metadata": {},
     "output_type": "execute_result"
    }
   ],
   "source": [
    "metadata_df.duration.sum()/ 3600"
   ]
  },
  {
   "cell_type": "code",
   "execution_count": 22,
   "metadata": {},
   "outputs": [],
   "source": [
    "def check_oov(text):\n",
    "    words = text.split()\n",
    "    for word in words:\n",
    "        if word not in vocab:\n",
    "            return False\n",
    "        \n",
    "    return True\n",
    "\n",
    "metadata_df = metadata_df[metadata_df.text.apply(check_oov)]"
   ]
  },
  {
   "cell_type": "code",
   "execution_count": 23,
   "metadata": {},
   "outputs": [
    {
     "name": "stderr",
     "output_type": "stream",
     "text": [
      "100%|██████████| 499928/499928 [07:05<00:00, 1176.00it/s]\n"
     ]
    }
   ],
   "source": [
    "from lhotse import RecordingSet, Recording, SupervisionSegment, SupervisionSet\n",
    "\n",
    "recording_samples, supervision_samples = [], []\n",
    "\n",
    "for index in tqdm(metadata_df.index):\n",
    "    row = metadata_df.loc[index].to_dict()\n",
    "\n",
    "    audio_filepath = row[\"audio_filepath\"]\n",
    "    id = row[\"id\"]\n",
    "    duration = row[\"duration\"]\n",
    "    text = row[\"text\"]\n",
    "    \n",
    "    if row[\"wer\"] > 0.05:\n",
    "        continue\n",
    "    \n",
    "    recording = Recording.from_file(audio_filepath)\n",
    "    supervision = SupervisionSegment(\n",
    "        id=id, recording_id=id,\n",
    "        start=0.0, duration=recording.duration, channel=0,\n",
    "        text=text,\n",
    "        language='Vietnamese', \n",
    "    )\n",
    "\n",
    "    recording_samples.append(recording)\n",
    "    supervision_samples.append(supervision)"
   ]
  },
  {
   "cell_type": "code",
   "execution_count": 24,
   "metadata": {},
   "outputs": [],
   "source": [
    "recs = RecordingSet.from_recordings(recording_samples)\n",
    "sups = SupervisionSet.from_segments(supervision_samples)"
   ]
  },
  {
   "cell_type": "code",
   "execution_count": 25,
   "metadata": {},
   "outputs": [],
   "source": [
    "sups.to_file('/data/asr/icefall/egs/librispeech/ASR/manifests/gasr_supervisions_train_3.jsonl.gz')\n",
    "recs.to_file('/data/asr/icefall/egs/librispeech/ASR/manifests/gasr_recordings_train_3.jsonl.gz')"
   ]
  },
  {
   "cell_type": "code",
   "execution_count": 11,
   "metadata": {},
   "outputs": [],
   "source": [
    "# output_dir = \"/data/asr/icefall/egs/librispeech/ASR/manifests\"\n",
    "\n",
    "# output_path = f'{output_dir}/recordings_train.jsonl'\n",
    "# with open(output_path, \"w\") as f:\n",
    "#     for sample in recording_samples:\n",
    "#         json_obj = json.dumps(sample, ensure_ascii=False)\n",
    "#         f.write(json_obj + \"\\n\")\n",
    "        \n",
    "# output_path = f'{output_dir}/supervision_train.jsonl'\n",
    "# with open(output_path, \"w\") as f:\n",
    "#     for sample in supervision_samples:\n",
    "#         json_obj = json.dumps(sample, ensure_ascii=False)\n",
    "#         f.write(json_obj + \"\\n\")"
   ]
  },
  {
   "cell_type": "code",
   "execution_count": 12,
   "metadata": {},
   "outputs": [],
   "source": [
    "# metadata_df.text.to_csv(\"/data/asr/kaldi/exp/lm/llm_corpus.txt\", index=None)"
   ]
  },
  {
   "cell_type": "code",
   "execution_count": 13,
   "metadata": {},
   "outputs": [],
   "source": [
    "# def save(metadata, data_dir):\n",
    "#     wavscp_path = f'{data_dir}/wav.scp'\n",
    "#     text_path = f'{data_dir}/text'\n",
    "#     spk2utt_path = f'{data_dir}/spk2utt'\n",
    "#     utt2spk_path = f'{data_dir}/utt2spk'\n",
    "\n",
    "#     def create_text_file(f, contents):\n",
    "#         line = \"\\t\".join(contents)\n",
    "#         f.write(line + \"\\n\")\n",
    "\n",
    "#     with open(wavscp_path, \"w\", encoding=\"utf-8\") as f:\n",
    "#         metadata.sort_values(\"id\").apply(lambda x: create_text_file(f, (x[\"id\"], x[\"audio_filepath\"])), axis=1)\n",
    "#         print(f'###saved to: {wavscp_path}')\n",
    "\n",
    "#     with open(text_path, \"w\", encoding=\"utf-8\") as f:\n",
    "#         metadata.sort_values(\"id\").apply(lambda x: create_text_file(f, (x[\"id\"], x[\"text\"])), axis=1)\n",
    "#         print(f'###saved to: {text_path}')\n",
    "        \n",
    "#     with open(spk2utt_path, \"w\", encoding=\"utf-8\") as f:\n",
    "#         metadata.sort_values(\"id\").apply(lambda x: create_text_file(f, (x[\"id\"], x[\"id\"])), axis=1)\n",
    "#         print(f'###saved to: {spk2utt_path}')\n",
    "        \n",
    "#     with open(utt2spk_path, \"w\", encoding=\"utf-8\") as f:\n",
    "#         metadata.sort_values(\"id\").apply(lambda x: create_text_file(f, (x[\"id\"], x[\"id\"])), axis=1)\n",
    "#         print(f'###saved to: {utt2spk_path}')\n",
    "        \n",
    "# save(metadata=metadata_df, data_dir=data_dir)"
   ]
  },
  {
   "cell_type": "code",
   "execution_count": null,
   "metadata": {},
   "outputs": [],
   "source": []
  }
 ],
 "metadata": {
  "kernelspec": {
   "display_name": "nemo",
   "language": "python",
   "name": "python3"
  },
  "language_info": {
   "codemirror_mode": {
    "name": "ipython",
    "version": 3
   },
   "file_extension": ".py",
   "mimetype": "text/x-python",
   "name": "python",
   "nbconvert_exporter": "python",
   "pygments_lexer": "ipython3",
   "version": "3.10.18"
  }
 },
 "nbformat": 4,
 "nbformat_minor": 2
}
