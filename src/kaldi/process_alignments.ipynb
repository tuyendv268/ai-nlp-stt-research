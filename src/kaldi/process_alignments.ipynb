{
 "cells": [
  {
   "cell_type": "code",
   "execution_count": 1,
   "metadata": {},
   "outputs": [
    {
     "name": "stdout",
     "output_type": "stream",
     "text": [
      "INFO: Pandarallel will run on 4 workers.\n",
      "INFO: Pandarallel will use Memory file system to transfer data between the main process and workers.\n"
     ]
    }
   ],
   "source": [
    "from matplotlib import pyplot as plt\n",
    "import soundfile as sf\n",
    "from glob import glob\n",
    "from tqdm import tqdm\n",
    "import pandas as pd\n",
    "import librosa\n",
    "import json\n",
    "import re\n",
    "\n",
    "tqdm.pandas()\n",
    "\n",
    "from pandarallel import pandarallel\n",
    "\n",
    "pandarallel.initialize(nb_workers=4, progress_bar=True)"
   ]
  },
  {
   "cell_type": "code",
   "execution_count": 2,
   "metadata": {},
   "outputs": [
    {
     "name": "stderr",
     "output_type": "stream",
     "text": [
      "100%|██████████| 2063816/2063816 [00:21<00:00, 94517.84it/s] \n"
     ]
    }
   ],
   "source": [
    "filepath = \"/data/asr/kaldi/data/f88_2k4h/meta.jsonl\"\n",
    "metadata = list(map(json.loads, tqdm(open(filepath).readlines())))\n",
    "metadata_df = pd.DataFrame(metadata)\n",
    "metadata_df = metadata_df[[\"id\", \"matching_segments\"]]\n",
    "metadata = None"
   ]
  },
  {
   "cell_type": "code",
   "execution_count": 3,
   "metadata": {},
   "outputs": [],
   "source": [
    "metadata_df = metadata_df[metadata_df.matching_segments.apply(len) > 0]"
   ]
  },
  {
   "cell_type": "code",
   "execution_count": 4,
   "metadata": {},
   "outputs": [
    {
     "name": "stderr",
     "output_type": "stream",
     "text": [
      "100%|██████████| 2059104/2059104 [01:01<00:00, 33244.85it/s] \n"
     ]
    }
   ],
   "source": [
    "filepath = \"/data/asr/kaldi/data/f88_2k4h/ali.jsonl\"\n",
    "alignments = list(map(json.loads, tqdm(open(filepath).readlines())))\n",
    "alignments_df = pd.DataFrame(alignments)\n",
    "alignments = None"
   ]
  },
  {
   "cell_type": "code",
   "execution_count": 5,
   "metadata": {},
   "outputs": [],
   "source": [
    "merged_df = pd.merge(alignments_df, metadata_df, on=\"id\", how=\"inner\")\n",
    "alignments_df, metadata_df = None, None"
   ]
  },
  {
   "cell_type": "code",
   "execution_count": 6,
   "metadata": {},
   "outputs": [],
   "source": [
    "merged_df = merged_df.explode(\"matching_segments\")"
   ]
  },
  {
   "cell_type": "code",
   "execution_count": 7,
   "metadata": {},
   "outputs": [
    {
     "name": "stderr",
     "output_type": "stream",
     "text": [
      "100%|██████████| 2712436/2712436 [04:23<00:00, 10303.71it/s]\n"
     ]
    }
   ],
   "source": [
    "def get_segment_alignments(id, text, audio_filepath, alignments, inter_text):\n",
    "    text = re.sub(r\"\\s+\", ' ', text).strip()\n",
    "    inter_text = re.sub(r\"\\s+\", ' ', inter_text).strip()\n",
    "    \n",
    "    segments = text.split(inter_text)\n",
    "    start_index = len(segments[0].split())\n",
    "    end_index = start_index + len(inter_text.strip().split())\n",
    "\n",
    "    alignments = alignments[start_index: end_index]\n",
    "    \n",
    "    start_time = alignments[0][1]\n",
    "    end_time = alignments[-1][-1]\n",
    "    \n",
    "    return pd.Series([start_time, end_time])\n",
    "\n",
    "merged_df[[\"start_time\", \"end_time\"]] = merged_df.progress_apply(\n",
    "    lambda row: get_segment_alignments(\n",
    "        id=row['id'],\n",
    "        text=row['text'],\n",
    "        audio_filepath=row['audio_filepath'],\n",
    "        alignments=row['alignments'],\n",
    "        inter_text=row['matching_segments'],\n",
    "    ),\n",
    "    axis=1\n",
    ")"
   ]
  },
  {
   "cell_type": "code",
   "execution_count": null,
   "metadata": {},
   "outputs": [
    {
     "data": {
      "text/plain": [
       "<Axes: >"
      ]
     },
     "execution_count": 12,
     "metadata": {},
     "output_type": "execute_result"
    },
    {
     "data": {
      "image/png": "[encoded data removed]",
      "text/plain": [
       "<Figure size 640x480 with 1 Axes>"
      ]
     },
     "metadata": {},
     "output_type": "display_data"
    },
    {
     "ename": "",
     "evalue": "",
     "output_type": "error",
     "traceback": [
      "\u001b[1;31mThe Kernel crashed while executing code in the current cell or a previous cell. \n",
      "\u001b[1;31mPlease review the code in the cell(s) to identify a possible cause of the failure. \n",
      "\u001b[1;31mClick <a href='https://aka.ms/vscodeJupyterKernelCrash'>here</a> for more info. \n",
      "\u001b[1;31mView Jupyter <a href='command:jupyter.viewOutput'>log</a> for further details."
     ]
    }
   ],
   "source": [
    "merged_df.duration.hist(bins=100)"
   ]
  },
  {
   "cell_type": "code",
   "execution_count": 8,
   "metadata": {},
   "outputs": [
    {
     "data": {
      "text/plain": [
       "np.float64(1042.6687888888894)"
      ]
     },
     "execution_count": 8,
     "metadata": {},
     "output_type": "execute_result"
    }
   ],
   "source": [
    "merged_df[\"duration\"] = merged_df.end_time - merged_df.start_time\n",
    "\n",
    "merged_df.duration.sum() / 3600"
   ]
  },
  {
   "cell_type": "code",
   "execution_count": 9,
   "metadata": {},
   "outputs": [],
   "source": [
    "merged_df = merged_df.reset_index().drop(columns=[\"index\"])"
   ]
  },
  {
   "cell_type": "code",
   "execution_count": 11,
   "metadata": {},
   "outputs": [
    {
     "name": "stderr",
     "output_type": "stream",
     "text": [
      "100%|██████████| 2712436/2712436 [02:36<00:00, 17329.24it/s]\n"
     ]
    }
   ],
   "source": [
    "path = \"/data/asr/kaldi/data/f88_2k4h/segments.jsonl\"\n",
    "with open(path, \"w\") as f:\n",
    "    for index in tqdm(merged_df.index):\n",
    "        row = merged_df.iloc[index].to_dict()\n",
    "        json_obj = json.dumps(row, ensure_ascii=False)\n",
    "        f.write(json_obj + \"\\n\")"
   ]
  },
  {
   "cell_type": "code",
   "execution_count": null,
   "metadata": {},
   "outputs": [],
   "source": []
  },
  {
   "cell_type": "code",
   "execution_count": null,
   "metadata": {},
   "outputs": [],
   "source": [
    "audio, sr = librosa.load(audio_filepath, sr=None)\n",
    "\n",
    "audio = audio[int(sr*start_time): int(sr*end_time)]\n",
    "sf.write(\"audio.wav\", audio, samplerate=sr)"
   ]
  },
  {
   "cell_type": "code",
   "execution_count": null,
   "metadata": {},
   "outputs": [],
   "source": [
    "audio, sr = librosa.load(audio_filepath, sr=None)\n",
    "audio = audio/audio.max()\n",
    "\n",
    "fig, ax = plt.subplots(1, 1, figsize=(16, 4))\n",
    "ax.plot(audio)\n",
    "\n",
    "for segment in alignments:\n",
    "    phoneme, start_time, end_time = segment[0], segment[1], segment[2]\n",
    "    x0 = sr * start_time\n",
    "    x1 = sr * end_time\n",
    "    \n",
    "    ax.axvspan(x0, x1, alpha=0.15, color=\"red\")\n",
    "    ax.text(s=phoneme, x=x0, y=0.8)\n"
   ]
  },
  {
   "cell_type": "code",
   "execution_count": null,
   "metadata": {},
   "outputs": [],
   "source": []
  }
 ],
 "metadata": {
  "kernelspec": {
   "display_name": "nemo",
   "language": "python",
   "name": "python3"
  },
  "language_info": {
   "codemirror_mode": {
    "name": "ipython",
    "version": 3
   },
   "file_extension": ".py",
   "mimetype": "text/x-python",
   "name": "python",
   "nbconvert_exporter": "python",
   "pygments_lexer": "ipython3",
   "version": "3.10.18"
  }
 },
 "nbformat": 4,
 "nbformat_minor": 2
}
